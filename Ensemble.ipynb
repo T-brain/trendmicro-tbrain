{
 "cells": [
  {
   "cell_type": "code",
   "execution_count": 1,
   "metadata": {},
   "outputs": [],
   "source": [
    "import re\n",
    "import datetime\n",
    "import numpy as np\n",
    "import pandas as pd"
   ]
  },
  {
   "cell_type": "code",
   "execution_count": 3,
   "metadata": {},
   "outputs": [
    {
     "data": {
      "text/plain": [
       "'3.6.3 | packaged by conda-forge | (default, Oct  5 2017, 14:07:33) \\n[GCC 4.8.2 20140120 (Red Hat 4.8.2-15)]'"
      ]
     },
     "execution_count": 3,
     "metadata": {},
     "output_type": "execute_result"
    }
   ],
   "source": [
    "import sys\n",
    "sys.version"
   ]
  },
  {
   "cell_type": "code",
   "execution_count": 2,
   "metadata": {},
   "outputs": [],
   "source": [
    "# LB: 0.9455640\n",
    "lgbm1 = pd.read_csv('./LGBM_50bag_0313.csv')\n",
    "# LB: 0.9445576\n",
    "lgbm2 = pd.read_csv('./LGBM_50bag_0314.csv')\n",
    "# LB: 0.957024\n",
    "lgbm3 = pd.read_csv('./LGBM_50bag_0321.csv')\n",
    "# LB: 0.9595470\n",
    "lgbm4 = pd.read_csv('./LGBM_50bag_0322.csv')\n",
    "# LB: 0.9194094\n",
    "rnn1 = pd.read_csv('./RNN_30bag_0313.csv')\n",
    "rnn2 = pd.read_csv('./RNN_30bag_0323.csv')\n",
    "# LB: 0.9293533\n",
    "nn1 = pd.read_csv('./NN_50bag_0315.csv')\n",
    "# LB: ????\n",
    "nn2 = pd.read_csv('./NN_100bag_0322.csv')"
   ]
  },
  {
   "cell_type": "code",
   "execution_count": 5,
   "metadata": {},
   "outputs": [],
   "source": [
    "submit = lgbm1\n",
    "lgbm1 = lgbm1['Probability']\n",
    "lgbm2 = lgbm2['Probability']\n",
    "lgbm3 = lgbm3['Probability']\n",
    "lgbm4 = lgbm4['Probability']\n",
    "rnn1 = rnn1['Probability']\n",
    "rnn2 = rnn2['Probability']\n",
    "nn1 = nn1['Probability']\n",
    "nn2 = nn2['Probability']"
   ]
  },
  {
   "cell_type": "code",
   "execution_count": 14,
   "metadata": {},
   "outputs": [
    {
     "name": "stderr",
     "output_type": "stream",
     "text": [
      "/opt/conda/lib/python3.6/site-packages/pandas/core/indexing.py:194: SettingWithCopyWarning: \n",
      "A value is trying to be set on a copy of a slice from a DataFrame\n",
      "\n",
      "See the caveats in the documentation: http://pandas.pydata.org/pandas-docs/stable/indexing.html#indexing-view-versus-copy\n",
      "  self._setitem_with_indexer(indexer, value)\n"
     ]
    }
   ],
   "source": [
    "submit['Probability'] = lgbm4*0.5 + lgbm3*0.22 + lgbm2*0.08 + rnn1*0.01 + rnn2*0.05 + nn1*0.02 + nn2*0.12\n",
    "submit.to_csv('./Ensemble_{}.csv'.format(re.sub('-', '', str(datetime.date.today())[5:])), index=False)"
   ]
  },
  {
   "cell_type": "code",
   "execution_count": null,
   "metadata": {},
   "outputs": [],
   "source": []
  }
 ],
 "metadata": {
  "kernelspec": {
   "display_name": "Python 3",
   "language": "python",
   "name": "python3"
  },
  "language_info": {
   "codemirror_mode": {
    "name": "ipython",
    "version": 3
   },
   "file_extension": ".py",
   "mimetype": "text/x-python",
   "name": "python",
   "nbconvert_exporter": "python",
   "pygments_lexer": "ipython3",
   "version": "3.6.3"
  }
 },
 "nbformat": 4,
 "nbformat_minor": 2
}
